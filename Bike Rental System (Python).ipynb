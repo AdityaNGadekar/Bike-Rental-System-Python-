{
  "cells": [
    {
      "cell_type": "markdown",
      "id": "303d18ca",
      "metadata": {
        "id": "303d18ca"
      },
      "source": [
        "## OOP project"
      ]
    },
    {
      "cell_type": "markdown",
      "id": "5cada111",
      "metadata": {
        "id": "5cada111"
      },
      "source": [
        "A Bike Rental System\n",
        "\n",
        "A full fledged bike rental system implemented in Python using object oriented programming.\n",
        "\n",
        "Customers can see available bikes on the shop.\n",
        "Rent bikes on daily basis Rs.100 per day.\n",
        "Rent bikes on weekly basis Rs.500 per week.\n",
        "Family Rental, a promotion that can include from 3 to 5 Rentals (of any type) with a discount of 30% of the total price.\n",
        "\n",
        "The bike rental shop can issue a bill when customer decides to return the bike,\n",
        "display available inventory ,take requests on daily and weekly basis by cross verifying stock.\n",
        "\n",
        "For simplicity we assume that\n",
        "Any customer requests rentals of only one type i.e daily or weekly and is free to choose the number of bikes he/she wants.\n",
        "Requested bikes should be less than available stock."
      ]
    },
    {
      "cell_type": "code",
      "execution_count": null,
      "id": "81b2891a",
      "metadata": {
        "id": "81b2891a"
      },
      "outputs": [],
      "source": []
    },
    {
      "cell_type": "markdown",
      "id": "abae9162",
      "metadata": {
        "id": "abae9162"
      },
      "source": [
        "## Step 1\n",
        "\n",
        "Create a parent class `BikeRental`. Define `stock` as `class attribute` and assign value 100 to it.\n",
        "\n",
        "This class should not take any other attribute and when the object is created, it should display the message \"Welcome to rental bike shop.\"\n",
        "\n",
        "Define a method `displaystock` inside this class and when this method is called, it should display the total number of stock available."
      ]
    },
    {
      "cell_type": "code",
      "execution_count": null,
      "id": "8816e06c",
      "metadata": {
        "id": "8816e06c"
      },
      "outputs": [],
      "source": [
        "class BikeRental():\n",
        "  stock = 100\n",
        "  def __init__(self):\n",
        "\n",
        "    print(\"Welcome to rental bike shop\")\n",
        "\n",
        "  def displaystock(self):\n",
        "    print('Stock available',self.stock)"
      ]
    },
    {
      "cell_type": "code",
      "source": [
        "bk=BikeRental()\n",
        "bk.displaystock()"
      ],
      "metadata": {
        "colab": {
          "base_uri": "https://localhost:8080/"
        },
        "id": "Ue510-ZWOKZ0",
        "outputId": "bbb0a2c0-4fcd-4c41-aaea-00fb012714ef"
      },
      "id": "Ue510-ZWOKZ0",
      "execution_count": null,
      "outputs": [
        {
          "output_type": "stream",
          "name": "stdout",
          "text": [
            "Welcome to rental bike shop\n",
            "Stock available 100\n"
          ]
        }
      ]
    },
    {
      "cell_type": "markdown",
      "id": "2ca3fb5c",
      "metadata": {
        "id": "2ca3fb5c"
      },
      "source": [
        "Create an object `bike_shop` of above class."
      ]
    },
    {
      "cell_type": "code",
      "execution_count": null,
      "id": "5184fc96",
      "metadata": {
        "colab": {
          "base_uri": "https://localhost:8080/"
        },
        "id": "5184fc96",
        "outputId": "1620f98f-e536-4ab3-fbd4-b915c43ce008"
      },
      "outputs": [
        {
          "output_type": "stream",
          "name": "stdout",
          "text": [
            "Welcome to rental bike shop\n",
            "<__main__.BikeRental object at 0x7b329c240e10>\n"
          ]
        }
      ],
      "source": [
        "bike_shop=BikeRental()\n",
        "print(bike_shop)\n"
      ]
    },
    {
      "cell_type": "code",
      "execution_count": null,
      "id": "ef59df60",
      "metadata": {
        "id": "ef59df60"
      },
      "outputs": [],
      "source": [
        "\n"
      ]
    },
    {
      "cell_type": "markdown",
      "id": "73d006a8",
      "metadata": {
        "id": "73d006a8"
      },
      "source": [
        "Check if above created object can access the `class attribute` `stock`."
      ]
    },
    {
      "cell_type": "code",
      "execution_count": null,
      "id": "a96da206",
      "metadata": {
        "scrolled": true,
        "colab": {
          "base_uri": "https://localhost:8080/"
        },
        "id": "a96da206",
        "outputId": "3c123e73-ba8f-4a91-8e9e-31937a298a4f"
      },
      "outputs": [
        {
          "output_type": "stream",
          "name": "stdout",
          "text": [
            "100\n"
          ]
        }
      ],
      "source": [
        "print(bike_shop.stock)"
      ]
    },
    {
      "cell_type": "code",
      "execution_count": null,
      "id": "4460bd03",
      "metadata": {
        "id": "4460bd03"
      },
      "outputs": [],
      "source": []
    },
    {
      "cell_type": "markdown",
      "id": "a702f97d",
      "metadata": {
        "id": "a702f97d"
      },
      "source": [
        "Call the method `displaystock` using above created object `bike_shop`."
      ]
    },
    {
      "cell_type": "code",
      "execution_count": null,
      "id": "c4dc35b0",
      "metadata": {
        "colab": {
          "base_uri": "https://localhost:8080/"
        },
        "id": "c4dc35b0",
        "outputId": "41fb3470-9688-4835-f768-35a1c09ac93a"
      },
      "outputs": [
        {
          "output_type": "stream",
          "name": "stdout",
          "text": [
            "Stock available 100\n"
          ]
        }
      ],
      "source": [
        "bike_shop.displaystock()"
      ]
    },
    {
      "cell_type": "code",
      "execution_count": null,
      "id": "6a859671",
      "metadata": {
        "id": "6a859671"
      },
      "outputs": [],
      "source": []
    },
    {
      "cell_type": "markdown",
      "id": "d3a33de1",
      "metadata": {
        "id": "d3a33de1"
      },
      "source": [
        "## Step 2\n",
        "\n",
        "Create a derived class `Customer` to inherit the methods from `BikeRental` class.\n",
        "Define `bill` as `class attribute`and set it's initial value as zero.\n",
        "\n",
        "This class has `number_of_bikes`, `rentalBasis` (daily or weekly) and `number_of_days_or_weeks` as attributes."
      ]
    },
    {
      "cell_type": "code",
      "execution_count": null,
      "id": "50196270",
      "metadata": {
        "id": "50196270"
      },
      "outputs": [],
      "source": [
        "class Customer(BikeRental):\n",
        "  bill=0\n",
        "  def __init__(self,number_of_bikes, rentalBasis,number_of_days_or_weeks):\n",
        "    super().__init__(stock=100)\n",
        "    self.number_of_bikes=number_of_bikes\n",
        "    self.rentalBasis=rentalBasis\n",
        "    self.number_of_days_or_weeks=number_of_days_or_weeks\n",
        "\n",
        "\n",
        "\n"
      ]
    },
    {
      "cell_type": "code",
      "execution_count": null,
      "id": "363883ea",
      "metadata": {
        "id": "363883ea"
      },
      "outputs": [],
      "source": []
    },
    {
      "cell_type": "markdown",
      "id": "98a400fe",
      "metadata": {
        "id": "98a400fe"
      },
      "source": [
        "Define a function `rentBike`, it should have following conditions:\n",
        "\n",
        "- if `number_of_bikes` is less than or equal to zero, it should display the message \"Number of bikes should be positive!\".\n",
        "\n",
        "- if `number_of_bikes` is greater than the `stock`, it should display the `number_of_bikes` available to rent.\n",
        "\n",
        "- Otherwise display the total `number_of_bikes` rented by the customer. Do not forget to update the value of `stock` i.e. subtract the `number_of_bikes` rented from stock and display the updated `stock`."
      ]
    },
    {
      "cell_type": "code",
      "execution_count": null,
      "id": "0f15d993",
      "metadata": {
        "colab": {
          "base_uri": "https://localhost:8080/"
        },
        "id": "0f15d993",
        "outputId": "8d11709b-09c6-4d1d-9d04-1da91e3085ab"
      },
      "outputs": [
        {
          "output_type": "stream",
          "name": "stdout",
          "text": [
            "4 Stock available 96\n"
          ]
        }
      ],
      "source": [
        "class Customer(BikeRental):\n",
        "  def __init__(self,number_of_bikes):\n",
        "    self.number_of_bikes=number_of_bikes\n",
        "\n",
        "    #self.number_of_days_or_weeks=number_of_days_or_weeks\n",
        "  def rentBike(self):\n",
        "    if self.number_of_bikes<=0:\n",
        "      print( \"Number of bikes should be positive!\")\n",
        "    elif self.number_of_bikes > self.stock:\n",
        "      print(self.stock,'available to rent.')\n",
        "\n",
        "    else:\n",
        "      stock_available=(self.stock-self.number_of_bikes)\n",
        "      print(self.number_of_bikes,'Stock available',stock_available)\n",
        "\n",
        "\n",
        "c2=Customer(4)\n",
        "c2.rentBike()\n"
      ]
    },
    {
      "cell_type": "code",
      "execution_count": null,
      "id": "e66fb261",
      "metadata": {
        "id": "e66fb261"
      },
      "outputs": [],
      "source": [
        "\n"
      ]
    },
    {
      "cell_type": "markdown",
      "id": "cb22ec0f",
      "metadata": {
        "id": "cb22ec0f"
      },
      "source": [
        "Define a function `returnBike` to return the total bill of customer.\n",
        "- Check if `rentalBasis` is ' daily ' or ' weekly ' and accordingly calculate the bill. Rent on ' daily ' basis is Rs. 100 per bike and for ' weekly ' basis it is Rs. 500 per bike.\n",
        "\n",
        "- If `number_of_bikes` rented by customer is between 3 to 5 (both values inclusive), 30% discount is offered on total bill. So it should display the message \"You are eligible for Family rental promotion of 30% discount\"."
      ]
    },
    {
      "cell_type": "code",
      "execution_count": null,
      "id": "48be1e59",
      "metadata": {
        "id": "48be1e59"
      },
      "outputs": [],
      "source": [
        "class Customer(BikeRental):\n",
        "  def __init__(self,number_of_bikes,rentalBasis,number_of_days_or_weeks):\n",
        "    self.number_of_bikes=number_of_bikes\n",
        "    self.rentalBasis=rentalBasis\n",
        "    self.number_of_days_or_weeks=number_of_days_or_weeks\n",
        "\n",
        "  def returnBike(self):\n",
        "\n",
        "    if self.rentalBasis=='daily':\n",
        "      total_bill=self.number_of_bikes*100*self.number_of_days_or_weeks\n",
        "      print('Your Total bill will be:',total_bill)\n",
        "\n",
        "    else:\n",
        "      self.rentalBasis=='weekly'\n",
        "      total_bill=self.number_of_bikes*500*self.number_of_days_or_weeks\n",
        "      print('Your Total bill will be:',total_bill)\n",
        "\n",
        "    if self.number_of_days_or_weeks>=3 and self.number_of_days_or_weeks<=5:\n",
        "        discount_amount = total_bill * (30 / 100)\n",
        "        discounted_amount = total_bill - discount_amount\n",
        "        print(\"You are eligible for Family rental promotion of 30% discount that is:\",discounted_amount)\n"
      ]
    },
    {
      "cell_type": "code",
      "execution_count": null,
      "id": "29935c98",
      "metadata": {
        "colab": {
          "base_uri": "https://localhost:8080/"
        },
        "id": "29935c98",
        "outputId": "4cbcbf4f-5908-4d1f-ec06-d5705b22e373"
      },
      "outputs": [
        {
          "output_type": "stream",
          "name": "stdout",
          "text": [
            "Your Total bill will be: 4000\n"
          ]
        }
      ],
      "source": [
        "c2=Customer(4,'daily',10)\n",
        "c2.returnBike()"
      ]
    },
    {
      "cell_type": "code",
      "source": [
        "c2=Customer(10,'weekly',10)\n",
        "c2.returnBike()"
      ],
      "metadata": {
        "colab": {
          "base_uri": "https://localhost:8080/"
        },
        "id": "-s2--OG8j6c9",
        "outputId": "62efc6a7-856f-464a-9d32-27ddb8f643ec"
      },
      "id": "-s2--OG8j6c9",
      "execution_count": null,
      "outputs": [
        {
          "output_type": "stream",
          "name": "stdout",
          "text": [
            "Your Total bill will be: 50000\n"
          ]
        }
      ]
    },
    {
      "cell_type": "code",
      "source": [
        "c2=Customer(10,'weekly',4)\n",
        "c2.returnBike()\n",
        "c2.stock()"
      ],
      "metadata": {
        "colab": {
          "base_uri": "https://localhost:8080/"
        },
        "id": "dxuMGljik6_-",
        "outputId": "c3ed112a-a29e-45d7-f8b6-7c2e1d304c8c"
      },
      "id": "dxuMGljik6_-",
      "execution_count": null,
      "outputs": [
        {
          "output_type": "stream",
          "name": "stdout",
          "text": [
            "Your Total bill will be: 20000\n",
            "You are eligible for Family rental promotion of 30% discount that is: 14000.0\n"
          ]
        },
        {
          "output_type": "execute_result",
          "data": {
            "text/plain": [
              "100"
            ]
          },
          "metadata": {},
          "execution_count": 97
        }
      ]
    },
    {
      "cell_type": "markdown",
      "id": "fa66397a",
      "metadata": {
        "id": "fa66397a"
      },
      "source": [
        "## Step 3\n",
        "\n",
        "Write complete `Customer` class using above defined functions `returnBike` and `rentBike` inside it as methods."
      ]
    },
    {
      "cell_type": "code",
      "execution_count": null,
      "id": "e1c7c3f5",
      "metadata": {
        "id": "e1c7c3f5"
      },
      "outputs": [],
      "source": [
        "class Customer(BikeRental):\n",
        "  def __init__(self,number_of_bikes):\n",
        "    self.number_of_bikes=number_of_bikes\n",
        "\n",
        "    #self.number_of_days_or_weeks=number_of_days_or_weeks\n",
        "  def rentBike(self):\n",
        "    if self.number_of_bikes<=0:\n",
        "      print( \"Number of bikes should be positive!\")\n",
        "    elif self.number_of_bikes > self.stock:\n",
        "      print(self.stock,'available to rent.')\n",
        "\n",
        "    else:\n",
        "      self.stock=(self.stock-self.number_of_bikes)\n",
        "      print(self.number_of_bikes,'Stock available',self.stock)\n",
        "\n",
        "  def returnBike(self,num):\n",
        "    self.stock= num + self.stock\n",
        "    print(self.stock)\n",
        "\n"
      ]
    },
    {
      "cell_type": "code",
      "source": [
        "c2=Customer(10)\n",
        "c2.rentBike()"
      ],
      "metadata": {
        "colab": {
          "base_uri": "https://localhost:8080/"
        },
        "id": "IscHzTKkqOSX",
        "outputId": "b194c2f5-6a67-4b70-f3ec-36c0bcaa6d99"
      },
      "id": "IscHzTKkqOSX",
      "execution_count": null,
      "outputs": [
        {
          "output_type": "stream",
          "name": "stdout",
          "text": [
            "10 Stock available 90\n"
          ]
        }
      ]
    },
    {
      "cell_type": "code",
      "source": [
        "\n",
        "c2.returnBike(10)"
      ],
      "metadata": {
        "colab": {
          "base_uri": "https://localhost:8080/"
        },
        "id": "416N83agp1L7",
        "outputId": "04725c1b-2f27-478d-986a-4f5652c18c54"
      },
      "id": "416N83agp1L7",
      "execution_count": null,
      "outputs": [
        {
          "output_type": "stream",
          "name": "stdout",
          "text": [
            "100\n"
          ]
        }
      ]
    },
    {
      "cell_type": "code",
      "execution_count": null,
      "id": "b8753564",
      "metadata": {
        "colab": {
          "base_uri": "https://localhost:8080/"
        },
        "id": "b8753564",
        "outputId": "d70e8fef-a3fe-4bcd-ff6a-ba9d5a552a20"
      },
      "outputs": [
        {
          "output_type": "stream",
          "name": "stdout",
          "text": [
            "10 Stock available 90\n"
          ]
        }
      ],
      "source": [
        "c2=Customer(10)\n",
        "c2.rentBike()\n",
        "\n"
      ]
    },
    {
      "cell_type": "markdown",
      "id": "dea7483f",
      "metadata": {
        "id": "dea7483f"
      },
      "source": [
        "## Step 4\n",
        "\n",
        "Check your `Bike Rental System` for test-case objects given below :\n",
        "\n",
        "For first four customers - check all the three attribute values and call `rentBike` and `returnBike` methods.\n",
        "\n",
        "- customer_1 = Customer(2,'day',5)\n",
        "\n",
        "- customer_2 = Customer(1,'week',3)\n",
        "\n",
        "- customer_3 = Customer(4,'day',3)  - Is family discount applicable here ?\n",
        "\n",
        "- customer_4 = Customer(3,'week',3) - Is family discount applicable here ?\n",
        "\n",
        "Call `rentBike` and `displaystock` methods for test-case objects given below :\n",
        "\n",
        "- customer_5 = Customer(120,'week',3)\n",
        "\n",
        "- customer_6 = Customer(0,'week',3)\n",
        "\n",
        "- customer_7 = Customer(-5,'week',3)\n",
        "\n",
        "- customer_8 = Customer(1,'day',3)"
      ]
    },
    {
      "cell_type": "code",
      "execution_count": null,
      "id": "40d0a7aa",
      "metadata": {
        "id": "40d0a7aa"
      },
      "outputs": [],
      "source": [
        "class BikeRental():\n",
        "  stock = 100\n",
        "  def __init__(self):\n",
        "    print(\"Welcome to rental bike shop\")\n",
        "\n",
        "  def displaystock(self):\n",
        "    print('Stock available',self.stock)\n",
        "\n",
        "class Customer(BikeRental):\n",
        "  def __init__(self,number_of_bikes,rentalBasis,number_of_days_or_weeks):\n",
        "    self.number_of_bikes=number_of_bikes\n",
        "    self.rentalBasis=rentalBasis\n",
        "    self.number_of_days_or_weeks=number_of_days_or_weeks\n",
        "\n",
        "  def rentBike(self):\n",
        "    if self.number_of_bikes<=0:\n",
        "      print( \"Number of bikes should be positive!\")\n",
        "    elif self.number_of_bikes > self.stock:\n",
        "      print(self.stock,'available to rent.')\n",
        "\n",
        "    else:\n",
        "      # self.stock=(self.stock-self.number_of_bikes)\n",
        "      BikeRental.stock =BikeRental.stock - self.number_of_bikes\n",
        "\n",
        "      print(self.number_of_bikes,'Stock available',self.stock)\n",
        "\n",
        "  def returnBike(self):\n",
        "    self.stock= self.number_of_bikes+ self.stock\n",
        "    BikeRental.stock = self.number_of_bikes + BikeRental.stock\n",
        "    print(self.stock)\n",
        "\n",
        "  def returnBike(self):\n",
        "    if self.rentalBasis=='daily':\n",
        "      total_bill=self.number_of_bikes*100*self.number_of_days_or_weeks\n",
        "      print('Your Total bill will be:',total_bill)\n",
        "\n",
        "    else:\n",
        "      self.rentalBasis=='weekly'\n",
        "      total_bill=self.number_of_bikes*500*self.number_of_days_or_weeks\n",
        "      print('Your Total bill will be:',total_bill)\n",
        "\n",
        "    if self.number_of_days_or_weeks>=3 and self.number_of_days_or_weeks<=5:\n",
        "      discount_amount = total_bill * (30 / 100)\n",
        "      discounted_amount = total_bill - discount_amount\n",
        "      print(\"You are eligible for Family rental promotion of 30% discount that is:\",discounted_amount)"
      ]
    },
    {
      "cell_type": "markdown",
      "source": [
        "Testing"
      ],
      "metadata": {
        "id": "8GkjoJqy3Nui"
      },
      "id": "8GkjoJqy3Nui"
    },
    {
      "cell_type": "code",
      "source": [
        "customer_1 = Customer(2,'daily',5)\n",
        "\n",
        "customer_1.rentBike ()\n",
        "customer_1.returnBike()"
      ],
      "metadata": {
        "id": "XzEvXzpdoPvJ",
        "colab": {
          "base_uri": "https://localhost:8080/"
        },
        "outputId": "a2d4a7e2-cb3a-4b76-d813-8353724db413"
      },
      "id": "XzEvXzpdoPvJ",
      "execution_count": null,
      "outputs": [
        {
          "output_type": "stream",
          "name": "stdout",
          "text": [
            "2 Stock available 98\n",
            "Your Total bill will be: 1000\n",
            "You are eligible for Family rental promotion of 30% discount that is: 700.0\n"
          ]
        }
      ]
    },
    {
      "cell_type": "code",
      "source": [
        "customer_2 = Customer(1,'week',3)\n",
        "customer_2.rentBike ()\n",
        "\n",
        "customer_2.returnBike()"
      ],
      "metadata": {
        "colab": {
          "base_uri": "https://localhost:8080/"
        },
        "id": "haz4s71FtNBY",
        "outputId": "8a67442a-92d2-4144-8cca-8c789b08ca4e"
      },
      "id": "haz4s71FtNBY",
      "execution_count": null,
      "outputs": [
        {
          "output_type": "stream",
          "name": "stdout",
          "text": [
            "1 Stock available 97\n",
            "Your Total bill will be: 1500\n",
            "You are eligible for Family rental promotion of 30% discount that is: 1050.0\n"
          ]
        }
      ]
    },
    {
      "cell_type": "code",
      "source": [
        "customer_3 = Customer(4,'day',3)\n",
        "customer_3.rentBike ()\n",
        "\n",
        "customer_3.returnBike()"
      ],
      "metadata": {
        "id": "6TOOavLrth07",
        "colab": {
          "base_uri": "https://localhost:8080/"
        },
        "outputId": "fe968eef-421a-4daf-9064-42ce5229fddb"
      },
      "id": "6TOOavLrth07",
      "execution_count": null,
      "outputs": [
        {
          "output_type": "stream",
          "name": "stdout",
          "text": [
            "4 Stock available 93\n",
            "Your Total bill will be: 6000\n",
            "You are eligible for Family rental promotion of 30% discount that is: 4200.0\n"
          ]
        }
      ]
    },
    {
      "cell_type": "code",
      "source": [
        "customer_4 = Customer(3,'week',3)\n",
        "customer_4.rentBike ()\n",
        "\n",
        "customer_4.returnBike()"
      ],
      "metadata": {
        "colab": {
          "base_uri": "https://localhost:8080/"
        },
        "id": "vx5Ojc4Bucvp",
        "outputId": "8dbee9ee-c9ea-445a-a53e-d469c0d50ae9"
      },
      "id": "vx5Ojc4Bucvp",
      "execution_count": null,
      "outputs": [
        {
          "output_type": "stream",
          "name": "stdout",
          "text": [
            "3 Stock available 90\n",
            "Your Total bill will be: 4500\n",
            "You are eligible for Family rental promotion of 30% discount that is: 3150.0\n"
          ]
        }
      ]
    },
    {
      "cell_type": "code",
      "source": [
        "customer_5 = Customer(120,'week',3)\n",
        "customer_5.rentBike()\n",
        "customer_5.displaystock()"
      ],
      "metadata": {
        "colab": {
          "base_uri": "https://localhost:8080/"
        },
        "id": "LPNh5pUYucsR",
        "outputId": "f0cda460-3aa0-4413-83a2-ab6fd82a7db6"
      },
      "id": "LPNh5pUYucsR",
      "execution_count": null,
      "outputs": [
        {
          "output_type": "stream",
          "name": "stdout",
          "text": [
            "90 available to rent.\n",
            "Stock available 90\n"
          ]
        }
      ]
    },
    {
      "cell_type": "code",
      "source": [
        "customer_6 = Customer(0,'week',3)\n",
        "customer_6.rentBike()\n",
        "customer_6.displaystock()"
      ],
      "metadata": {
        "colab": {
          "base_uri": "https://localhost:8080/"
        },
        "id": "PSSWYvQCucpk",
        "outputId": "62bdab14-4e63-49db-8420-312cdac0050a"
      },
      "id": "PSSWYvQCucpk",
      "execution_count": null,
      "outputs": [
        {
          "output_type": "stream",
          "name": "stdout",
          "text": [
            "Number of bikes should be positive!\n",
            "Stock available 90\n"
          ]
        }
      ]
    },
    {
      "cell_type": "code",
      "source": [
        "customer_7 = Customer(-5,'week',3)\n",
        "customer_7.rentBike()\n",
        "customer_7.displaystock()"
      ],
      "metadata": {
        "colab": {
          "base_uri": "https://localhost:8080/"
        },
        "id": "e3quY6okucnA",
        "outputId": "5ac32b18-553d-4a45-8b15-cd89d3e40312"
      },
      "id": "e3quY6okucnA",
      "execution_count": null,
      "outputs": [
        {
          "output_type": "stream",
          "name": "stdout",
          "text": [
            "Number of bikes should be positive!\n",
            "Stock available 90\n"
          ]
        }
      ]
    },
    {
      "cell_type": "code",
      "source": [
        "customer_8 = Customer(1,'day',3)\n",
        "customer_8.rentBike()\n",
        "customer_8.displaystock()"
      ],
      "metadata": {
        "colab": {
          "base_uri": "https://localhost:8080/"
        },
        "id": "uR3bzauFucj3",
        "outputId": "b15efe56-82ed-40e9-a3f5-7a9bc216e9f5"
      },
      "id": "uR3bzauFucj3",
      "execution_count": null,
      "outputs": [
        {
          "output_type": "stream",
          "name": "stdout",
          "text": [
            "1 Stock available 89\n",
            "Stock available 89\n"
          ]
        }
      ]
    },
    {
      "cell_type": "code",
      "source": [],
      "metadata": {
        "id": "0bi58Essucf_"
      },
      "id": "0bi58Essucf_",
      "execution_count": null,
      "outputs": []
    }
  ],
  "metadata": {
    "kernelspec": {
      "display_name": "Python 3",
      "language": "python",
      "name": "python3"
    },
    "language_info": {
      "codemirror_mode": {
        "name": "ipython",
        "version": 3
      },
      "file_extension": ".py",
      "mimetype": "text/x-python",
      "name": "python",
      "nbconvert_exporter": "python",
      "pygments_lexer": "ipython3",
      "version": "3.8.8"
    },
    "colab": {
      "provenance": []
    }
  },
  "nbformat": 4,
  "nbformat_minor": 5
}